{
 "cells": [
  {
   "cell_type": "markdown",
   "metadata": {},
   "source": [
    "# robot-arm test procedure"
   ]
  },
  {
   "cell_type": "code",
   "execution_count": 379,
   "metadata": {},
   "outputs": [
    {
     "name": "stdout",
     "output_type": "stream",
     "text": [
      "The autoreload extension is already loaded. To reload it, use:\n",
      "  %reload_ext autoreload\n"
     ]
    }
   ],
   "source": [
    "%load_ext autoreload\n",
    "%autoreload 2\n",
    "\n",
    "from robotarm import RobotArmConn, parse_tmy, tmydef\n",
    "import time"
   ]
  },
  {
   "cell_type": "markdown",
   "metadata": {},
   "source": [
    "## Test Procedure"
   ]
  },
  {
   "cell_type": "markdown",
   "metadata": {},
   "source": [
    "#### Test 1 Blink"
   ]
  },
  {
   "cell_type": "code",
   "execution_count": 12,
   "metadata": {},
   "outputs": [],
   "source": [
    "SERIAL_PORT = '/dev/ttyACM1'\n",
    "BAUDRATE = 115200"
   ]
  },
  {
   "cell_type": "code",
   "execution_count": 3,
   "metadata": {},
   "outputs": [],
   "source": [
    "robot = RobotArmConn(SERIAL_PORT,BAUDRATE)\n",
    "robot.connect()"
   ]
  },
  {
   "cell_type": "code",
   "execution_count": 4,
   "metadata": {},
   "outputs": [],
   "source": [
    "for i in range(5):\n",
    "    robot.led_on()\n",
    "    time.sleep(1)\n",
    "    robot.led_off()\n",
    "    time.sleep(1)"
   ]
  },
  {
   "cell_type": "code",
   "execution_count": 5,
   "metadata": {},
   "outputs": [],
   "source": [
    "robot.disconnect()"
   ]
  },
  {
   "cell_type": "markdown",
   "metadata": {},
   "source": [
    "#### Test 2 Telemetry"
   ]
  },
  {
   "cell_type": "code",
   "execution_count": 6,
   "metadata": {},
   "outputs": [],
   "source": [
    "robot = RobotArmConn(SERIAL_PORT,BAUDRATE)\n",
    "robot.connect()"
   ]
  },
  {
   "cell_type": "code",
   "execution_count": 7,
   "metadata": {},
   "outputs": [
    {
     "data": {
      "text/plain": [
       "b'\\x00\\x00\\x00\\x00ZZZZZZZZ\\n'"
      ]
     },
     "execution_count": 7,
     "metadata": {},
     "output_type": "execute_result"
    }
   ],
   "source": [
    "tmy = robot.request_tmy()\n",
    "tmy"
   ]
  },
  {
   "cell_type": "code",
   "execution_count": 8,
   "metadata": {},
   "outputs": [
    {
     "name": "stdout",
     "output_type": "stream",
     "text": [
      "TMY_PARAM_ACCEPTED_PACKETS: 0\n",
      "TMY_PARAM_REJECTED_PACKETS: 0\n",
      "TMY_PARAM_LAST_OPCODE: 0x00\n",
      "TMY_PARAM_LAST_ERROR: success\n",
      "TMY_PARAM_SERVO1_POSITION: 90\n",
      "TMY_PARAM_SERVO1_TARGET_POSITION: 90\n",
      "TMY_PARAM_SERVO2_POSITION: 90\n",
      "TMY_PARAM_SERVO2_TARGET_POSITION: 90\n",
      "TMY_PARAM_SERVO3_POSITION: 90\n",
      "TMY_PARAM_SERVO3_TARGET_POSITION: 90\n",
      "TMY_PARAM_SERVO4_POSITION: 90\n",
      "TMY_PARAM_SERVO4_TARGET_POSITION: 90\n"
     ]
    }
   ],
   "source": [
    "parse_tmy(tmy)"
   ]
  },
  {
   "cell_type": "code",
   "execution_count": 9,
   "metadata": {},
   "outputs": [],
   "source": [
    "robot.disconnect()"
   ]
  },
  {
   "cell_type": "markdown",
   "metadata": {},
   "source": [
    "#### Test 3. Echo command"
   ]
  },
  {
   "cell_type": "code",
   "execution_count": 10,
   "metadata": {},
   "outputs": [],
   "source": [
    "robot = RobotArmConn(SERIAL_PORT,BAUDRATE)\n",
    "robot.connect()"
   ]
  },
  {
   "cell_type": "code",
   "execution_count": 11,
   "metadata": {
    "scrolled": true
   },
   "outputs": [
    {
     "data": {
      "text/plain": [
       "b'\\xfe\\xde\\xbe\\xbe\\xca\\xfe'"
      ]
     },
     "execution_count": 11,
     "metadata": {},
     "output_type": "execute_result"
    }
   ],
   "source": [
    "payload = [0xFE,0xDE,0xBE,0xBE,0xCA,0xFE]\n",
    "robot.echo(payload)"
   ]
  },
  {
   "cell_type": "code",
   "execution_count": 12,
   "metadata": {},
   "outputs": [],
   "source": [
    "robot.disconnect()"
   ]
  },
  {
   "cell_type": "markdown",
   "metadata": {},
   "source": [
    "#### Test 4  Servo control"
   ]
  },
  {
   "cell_type": "code",
   "execution_count": 431,
   "metadata": {},
   "outputs": [],
   "source": [
    "robot = RobotArmConn(SERIAL_PORT,BAUDRATE)\n",
    "robot.connect()"
   ]
  },
  {
   "cell_type": "code",
   "execution_count": 14,
   "metadata": {},
   "outputs": [
    {
     "name": "stdout",
     "output_type": "stream",
     "text": [
      "TMY_PARAM_ACCEPTED_PACKETS: 0\n",
      "TMY_PARAM_REJECTED_PACKETS: 0\n",
      "TMY_PARAM_LAST_OPCODE: 0x00\n",
      "TMY_PARAM_LAST_ERROR: success\n",
      "TMY_PARAM_SERVO1_POSITION: 90\n",
      "TMY_PARAM_SERVO1_TARGET_POSITION: 90\n",
      "TMY_PARAM_SERVO2_POSITION: 90\n",
      "TMY_PARAM_SERVO2_TARGET_POSITION: 90\n",
      "TMY_PARAM_SERVO3_POSITION: 90\n",
      "TMY_PARAM_SERVO3_TARGET_POSITION: 90\n",
      "TMY_PARAM_SERVO4_POSITION: 90\n",
      "TMY_PARAM_SERVO4_TARGET_POSITION: 90\n"
     ]
    }
   ],
   "source": [
    "parse_tmy(robot.request_tmy())"
   ]
  },
  {
   "cell_type": "code",
   "execution_count": 15,
   "metadata": {},
   "outputs": [],
   "source": [
    "robot.servo_set_positions(1,1,1,1)"
   ]
  },
  {
   "cell_type": "code",
   "execution_count": 16,
   "metadata": {},
   "outputs": [],
   "source": [
    "robot.servo_set_positions(90,90,90,90)"
   ]
  },
  {
   "cell_type": "code",
   "execution_count": 17,
   "metadata": {},
   "outputs": [],
   "source": [
    "robot.servo_set_positions(180,180,180,180)"
   ]
  },
  {
   "cell_type": "code",
   "execution_count": 18,
   "metadata": {},
   "outputs": [],
   "source": [
    "robot.disconnect()"
   ]
  },
  {
   "cell_type": "markdown",
   "metadata": {},
   "source": [
    "# GUI"
   ]
  },
  {
   "cell_type": "code",
   "execution_count": 272,
   "metadata": {},
   "outputs": [],
   "source": [
    "from robotarm import RobotArmGUI"
   ]
  },
  {
   "cell_type": "code",
   "execution_count": 435,
   "metadata": {},
   "outputs": [],
   "source": [
    "robot = RobotArmConn(SERIAL_PORT,BAUDRATE)\n",
    "robot.connect()"
   ]
  },
  {
   "cell_type": "code",
   "execution_count": 275,
   "metadata": {},
   "outputs": [
    {
     "name": "stdout",
     "output_type": "stream",
     "text": [
      "TMY_PARAM_ACCEPTED_PACKETS: 0\n",
      "TMY_PARAM_REJECTED_PACKETS: 0\n",
      "TMY_PARAM_LAST_OPCODE: 0x00\n",
      "TMY_PARAM_LAST_ERROR: success\n",
      "TMY_PARAM_MODE: idle\n",
      "TMY_PARAM_SERVO1_POSITION: 90\n",
      "TMY_PARAM_SERVO1_TARGET_POSITION: 90\n",
      "TMY_PARAM_SERVO2_POSITION: 90\n",
      "TMY_PARAM_SERVO2_TARGET_POSITION: 90\n",
      "TMY_PARAM_SERVO3_POSITION: 130\n",
      "TMY_PARAM_SERVO3_TARGET_POSITION: 130\n",
      "TMY_PARAM_SERVO4_POSITION: 90\n",
      "TMY_PARAM_SERVO4_TARGET_POSITION: 90\n"
     ]
    }
   ],
   "source": [
    "tmy = robot.request_tmy()\n",
    "parse_tmy(tmy)"
   ]
  },
  {
   "cell_type": "code",
   "execution_count": 276,
   "metadata": {},
   "outputs": [
    {
     "data": {
      "application/vnd.jupyter.widget-view+json": {
       "model_id": "9b34d59b6e1e4fa4835759246d3c7627",
       "version_major": 2,
       "version_minor": 0
      },
      "text/plain": [
       "Button(description='LED ON', style=ButtonStyle(), tooltip='Turn on led')"
      ]
     },
     "metadata": {},
     "output_type": "display_data"
    },
    {
     "data": {
      "application/vnd.jupyter.widget-view+json": {
       "model_id": "c0f9026e672c401a82272c321d69c525",
       "version_major": 2,
       "version_minor": 0
      },
      "text/plain": [
       "Button(description='LED OFF', style=ButtonStyle(), tooltip='Turn on led')"
      ]
     },
     "metadata": {},
     "output_type": "display_data"
    },
    {
     "data": {
      "application/vnd.jupyter.widget-view+json": {
       "model_id": "df7ef6b9f5594d2d9c3eba62cb3bad9c",
       "version_major": 2,
       "version_minor": 0
      },
      "text/plain": [
       "IntSlider(value=0, continuous_update=False, description='Servo A (Base):', max=180)"
      ]
     },
     "metadata": {},
     "output_type": "display_data"
    },
    {
     "data": {
      "application/vnd.jupyter.widget-view+json": {
       "model_id": "a41b8c8a5cc049c3955b9dbfcda351ed",
       "version_major": 2,
       "version_minor": 0
      },
      "text/plain": [
       "IntSlider(value=90, continuous_update=False, description='Servo B (Arm 1):', max=180)"
      ]
     },
     "metadata": {},
     "output_type": "display_data"
    },
    {
     "data": {
      "application/vnd.jupyter.widget-view+json": {
       "model_id": "49d4a1fd2bb647ee8ae3642343407bc4",
       "version_major": 2,
       "version_minor": 0
      },
      "text/plain": [
       "IntSlider(value=90, continuous_update=False, description='Servo C (Arm 2):', max=180)"
      ]
     },
     "metadata": {},
     "output_type": "display_data"
    },
    {
     "data": {
      "application/vnd.jupyter.widget-view+json": {
       "model_id": "345ec806173b44189ed62d23c0d71437",
       "version_major": 2,
       "version_minor": 0
      },
      "text/plain": [
       "IntSlider(value=130, continuous_update=False, description='Servo C (Tool):', max=180)"
      ]
     },
     "metadata": {},
     "output_type": "display_data"
    }
   ],
   "source": [
    "gui = RobotArmGUI(robot)\n",
    "gui.display()"
   ]
  },
  {
   "cell_type": "code",
   "execution_count": 35,
   "metadata": {},
   "outputs": [],
   "source": [
    "robot.disconnect()"
   ]
  },
  {
   "cell_type": "markdown",
   "metadata": {},
   "source": [
    "# Sequences"
   ]
  },
  {
   "cell_type": "code",
   "execution_count": 436,
   "metadata": {},
   "outputs": [],
   "source": [
    "robot = RobotArmConn(SERIAL_PORT,BAUDRATE)\n",
    "robot.connect()"
   ]
  },
  {
   "cell_type": "code",
   "execution_count": 437,
   "metadata": {},
   "outputs": [
    {
     "name": "stdout",
     "output_type": "stream",
     "text": [
      "TMY_PARAM_ACCEPTED_PACKETS: 75\n",
      "TMY_PARAM_REJECTED_PACKETS: 0\n",
      "TMY_PARAM_LAST_OPCODE: 0x04\n",
      "TMY_PARAM_LAST_ERROR: success\n",
      "TMY_PARAM_MODE: idle\n",
      "TMY_PARAM_SERVO1_POSITION: 90\n",
      "TMY_PARAM_SERVO1_TARGET_POSITION: 5\n",
      "TMY_PARAM_SERVO2_POSITION: 90\n",
      "TMY_PARAM_SERVO2_TARGET_POSITION: 152\n",
      "TMY_PARAM_SERVO3_POSITION: 130\n",
      "TMY_PARAM_SERVO3_TARGET_POSITION: 56\n",
      "TMY_PARAM_SERVO4_POSITION: 90\n",
      "TMY_PARAM_SERVO4_TARGET_POSITION: 47\n"
     ]
    }
   ],
   "source": [
    "parse_tmy(robot.request_tmy())"
   ]
  },
  {
   "cell_type": "code",
   "execution_count": 438,
   "metadata": {},
   "outputs": [
    {
     "name": "stdout",
     "output_type": "stream",
     "text": [
      "Idle\n",
      "Waiting for idle\n",
      "Mode: 0\n",
      "Starting command loop\n",
      "Rotate\n",
      "Waiting for idle\n",
      "Mode: 0\n",
      "Starting command loop\n",
      "Collect\n",
      "Waiting for idle\n",
      "Mode: 0\n",
      "Starting command loop\n",
      "Open claw\n",
      "Waiting for idle\n",
      "Mode: 0\n",
      "Starting command loop\n",
      "Close claw\n",
      "Waiting for idle\n",
      "Mode: 0\n",
      "Starting command loop\n",
      "Arm idle\n",
      "Waiting for idle\n",
      "Mode: 0\n",
      "Starting command loop\n",
      "Open claw\n",
      "Waiting for idle\n",
      "Mode: 0\n",
      "Starting command loop\n"
     ]
    }
   ],
   "source": [
    "print(\"Idle\")\n",
    "robot.idle()\n",
    "print(\"Rotate\")\n",
    "robot.rotate(90)\n",
    "print(\"Collect\")\n",
    "robot.arm_collect_from_ground()\n",
    "print(\"Open claw\")\n",
    "robot.open_claw()\n",
    "print(\"Close claw\")\n",
    "robot.close_claw()\n",
    "print(\"Arm idle\")\n",
    "robot.arm_idle()\n",
    "print(\"Open claw\")\n",
    "robot.open_claw()"
   ]
  }
 ],
 "metadata": {
  "kernelspec": {
   "display_name": "Python 3",
   "language": "python",
   "name": "python3"
  },
  "language_info": {
   "codemirror_mode": {
    "name": "ipython",
    "version": 3
   },
   "file_extension": ".py",
   "mimetype": "text/x-python",
   "name": "python",
   "nbconvert_exporter": "python",
   "pygments_lexer": "ipython3",
   "version": "3.7.1"
  }
 },
 "nbformat": 4,
 "nbformat_minor": 2
}
