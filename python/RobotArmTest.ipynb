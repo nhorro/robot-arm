{
 "cells": [
  {
   "cell_type": "markdown",
   "metadata": {},
   "source": [
    "# robot-arm test procedure"
   ]
  },
  {
   "cell_type": "code",
   "execution_count": 1,
   "metadata": {},
   "outputs": [],
   "source": [
    "%load_ext autoreload\n",
    "%autoreload 2\n",
    "\n",
    "from robotarm import RobotArmConn, parse_tmy\n",
    "import time"
   ]
  },
  {
   "cell_type": "markdown",
   "metadata": {},
   "source": [
    "## Test Procedure"
   ]
  },
  {
   "cell_type": "markdown",
   "metadata": {},
   "source": [
    "#### Test 1 Blink"
   ]
  },
  {
   "cell_type": "code",
   "execution_count": 2,
   "metadata": {},
   "outputs": [],
   "source": [
    "SERIAL_PORT = '/dev/ttyACM1'\n",
    "BAUDRATE = 115200"
   ]
  },
  {
   "cell_type": "code",
   "execution_count": 3,
   "metadata": {},
   "outputs": [],
   "source": [
    "robot = RobotArmConn(SERIAL_PORT,BAUDRATE)\n",
    "robot.connect()"
   ]
  },
  {
   "cell_type": "code",
   "execution_count": 4,
   "metadata": {},
   "outputs": [],
   "source": [
    "for i in range(5):\n",
    "    robot.led_on()\n",
    "    time.sleep(1)\n",
    "    robot.led_off()\n",
    "    time.sleep(1)"
   ]
  },
  {
   "cell_type": "code",
   "execution_count": 5,
   "metadata": {},
   "outputs": [],
   "source": [
    "robot.disconnect()"
   ]
  },
  {
   "cell_type": "markdown",
   "metadata": {},
   "source": [
    "#### Test 2 Telemetry"
   ]
  },
  {
   "cell_type": "code",
   "execution_count": 6,
   "metadata": {},
   "outputs": [],
   "source": [
    "robot = RobotArmConn(SERIAL_PORT,BAUDRATE)\n",
    "robot.connect()"
   ]
  },
  {
   "cell_type": "code",
   "execution_count": 7,
   "metadata": {},
   "outputs": [
    {
     "data": {
      "text/plain": [
       "b'\\x00\\x00\\x00\\x00ZZZZZZZZ\\n'"
      ]
     },
     "execution_count": 7,
     "metadata": {},
     "output_type": "execute_result"
    }
   ],
   "source": [
    "tmy = robot.request_tmy()\n",
    "tmy"
   ]
  },
  {
   "cell_type": "code",
   "execution_count": 8,
   "metadata": {},
   "outputs": [
    {
     "name": "stdout",
     "output_type": "stream",
     "text": [
      "TMY_PARAM_ACCEPTED_PACKETS: 0\n",
      "TMY_PARAM_REJECTED_PACKETS: 0\n",
      "TMY_PARAM_LAST_OPCODE: 0x00\n",
      "TMY_PARAM_LAST_ERROR: success\n",
      "TMY_PARAM_SERVO1_POSITION: 90\n",
      "TMY_PARAM_SERVO1_TARGET_POSITION: 90\n",
      "TMY_PARAM_SERVO2_POSITION: 90\n",
      "TMY_PARAM_SERVO2_TARGET_POSITION: 90\n",
      "TMY_PARAM_SERVO3_POSITION: 90\n",
      "TMY_PARAM_SERVO3_TARGET_POSITION: 90\n",
      "TMY_PARAM_SERVO4_POSITION: 90\n",
      "TMY_PARAM_SERVO4_TARGET_POSITION: 90\n"
     ]
    }
   ],
   "source": [
    "parse_tmy(tmy)"
   ]
  },
  {
   "cell_type": "code",
   "execution_count": 9,
   "metadata": {},
   "outputs": [],
   "source": [
    "robot.disconnect()"
   ]
  },
  {
   "cell_type": "markdown",
   "metadata": {},
   "source": [
    "#### Test 3. Echo command"
   ]
  },
  {
   "cell_type": "code",
   "execution_count": 10,
   "metadata": {},
   "outputs": [],
   "source": [
    "robot = RobotArmConn(SERIAL_PORT,BAUDRATE)\n",
    "robot.connect()"
   ]
  },
  {
   "cell_type": "code",
   "execution_count": 11,
   "metadata": {
    "scrolled": true
   },
   "outputs": [
    {
     "data": {
      "text/plain": [
       "b'\\xfe\\xde\\xbe\\xbe\\xca\\xfe'"
      ]
     },
     "execution_count": 11,
     "metadata": {},
     "output_type": "execute_result"
    }
   ],
   "source": [
    "payload = [0xFE,0xDE,0xBE,0xBE,0xCA,0xFE]\n",
    "robot.echo(payload)"
   ]
  },
  {
   "cell_type": "code",
   "execution_count": 12,
   "metadata": {},
   "outputs": [],
   "source": [
    "robot.disconnect()"
   ]
  },
  {
   "cell_type": "markdown",
   "metadata": {},
   "source": [
    "#### Test 4  Servo control"
   ]
  },
  {
   "cell_type": "code",
   "execution_count": 13,
   "metadata": {},
   "outputs": [],
   "source": [
    "robot = RobotArmConn(SERIAL_PORT,BAUDRATE)\n",
    "robot.connect()"
   ]
  },
  {
   "cell_type": "code",
   "execution_count": 14,
   "metadata": {},
   "outputs": [
    {
     "name": "stdout",
     "output_type": "stream",
     "text": [
      "TMY_PARAM_ACCEPTED_PACKETS: 0\n",
      "TMY_PARAM_REJECTED_PACKETS: 0\n",
      "TMY_PARAM_LAST_OPCODE: 0x00\n",
      "TMY_PARAM_LAST_ERROR: success\n",
      "TMY_PARAM_SERVO1_POSITION: 90\n",
      "TMY_PARAM_SERVO1_TARGET_POSITION: 90\n",
      "TMY_PARAM_SERVO2_POSITION: 90\n",
      "TMY_PARAM_SERVO2_TARGET_POSITION: 90\n",
      "TMY_PARAM_SERVO3_POSITION: 90\n",
      "TMY_PARAM_SERVO3_TARGET_POSITION: 90\n",
      "TMY_PARAM_SERVO4_POSITION: 90\n",
      "TMY_PARAM_SERVO4_TARGET_POSITION: 90\n"
     ]
    }
   ],
   "source": [
    "parse_tmy(robot.request_tmy())"
   ]
  },
  {
   "cell_type": "code",
   "execution_count": 15,
   "metadata": {},
   "outputs": [],
   "source": [
    "robot.servo_set_positions(1,1,1,1)"
   ]
  },
  {
   "cell_type": "code",
   "execution_count": 16,
   "metadata": {},
   "outputs": [],
   "source": [
    "robot.servo_set_positions(90,90,90,90)"
   ]
  },
  {
   "cell_type": "code",
   "execution_count": 17,
   "metadata": {},
   "outputs": [],
   "source": [
    "robot.servo_set_positions(180,180,180,180)"
   ]
  },
  {
   "cell_type": "code",
   "execution_count": 18,
   "metadata": {},
   "outputs": [],
   "source": [
    "robot.disconnect()"
   ]
  },
  {
   "cell_type": "markdown",
   "metadata": {},
   "source": [
    "# GUI"
   ]
  },
  {
   "cell_type": "code",
   "execution_count": 19,
   "metadata": {},
   "outputs": [],
   "source": [
    "from robotarm import RobotArmGUI"
   ]
  },
  {
   "cell_type": "code",
   "execution_count": 20,
   "metadata": {},
   "outputs": [],
   "source": [
    "robot = RobotArmConn(SERIAL_PORT,BAUDRATE)\n",
    "robot.connect()"
   ]
  },
  {
   "cell_type": "code",
   "execution_count": 23,
   "metadata": {},
   "outputs": [
    {
     "name": "stdout",
     "output_type": "stream",
     "text": [
      "TMY_PARAM_ACCEPTED_PACKETS: 1\n",
      "TMY_PARAM_REJECTED_PACKETS: 0\n",
      "TMY_PARAM_LAST_OPCODE: 0x01\n",
      "TMY_PARAM_LAST_ERROR: success\n",
      "TMY_PARAM_SERVO1_POSITION: 90\n",
      "TMY_PARAM_SERVO1_TARGET_POSITION: 90\n",
      "TMY_PARAM_SERVO2_POSITION: 90\n",
      "TMY_PARAM_SERVO2_TARGET_POSITION: 90\n",
      "TMY_PARAM_SERVO3_POSITION: 90\n",
      "TMY_PARAM_SERVO3_TARGET_POSITION: 90\n",
      "TMY_PARAM_SERVO4_POSITION: 90\n",
      "TMY_PARAM_SERVO4_TARGET_POSITION: 90\n"
     ]
    }
   ],
   "source": [
    "tmy = robot.request_tmy()\n",
    "parse_tmy(tmy)"
   ]
  },
  {
   "cell_type": "code",
   "execution_count": 22,
   "metadata": {},
   "outputs": [
    {
     "data": {
      "application/vnd.jupyter.widget-view+json": {
       "model_id": "2d9c97a5b5d24cdb91d49b10c934e765",
       "version_major": 2,
       "version_minor": 0
      },
      "text/plain": [
       "Button(description='LED ON', style=ButtonStyle(), tooltip='Turn on led')"
      ]
     },
     "metadata": {},
     "output_type": "display_data"
    },
    {
     "data": {
      "application/vnd.jupyter.widget-view+json": {
       "model_id": "cbd6c452d4e44b76b99f40d7e2efb031",
       "version_major": 2,
       "version_minor": 0
      },
      "text/plain": [
       "Button(description='LED OFF', style=ButtonStyle(), tooltip='Turn on led')"
      ]
     },
     "metadata": {},
     "output_type": "display_data"
    },
    {
     "data": {
      "application/vnd.jupyter.widget-view+json": {
       "model_id": "0f1ea272a43d455b96aee41e58b1fe19",
       "version_major": 2,
       "version_minor": 0
      },
      "text/plain": [
       "IntSlider(value=90, continuous_update=False, description='Servo A (Base):', max=180)"
      ]
     },
     "metadata": {},
     "output_type": "display_data"
    },
    {
     "data": {
      "application/vnd.jupyter.widget-view+json": {
       "model_id": "18f57c25182046f68993039f176cb550",
       "version_major": 2,
       "version_minor": 0
      },
      "text/plain": [
       "IntSlider(value=90, continuous_update=False, description='Servo B (Arm 1):', max=180)"
      ]
     },
     "metadata": {},
     "output_type": "display_data"
    },
    {
     "data": {
      "application/vnd.jupyter.widget-view+json": {
       "model_id": "772073af1265453a84341eed50a1cd80",
       "version_major": 2,
       "version_minor": 0
      },
      "text/plain": [
       "IntSlider(value=90, continuous_update=False, description='Servo C (Arm 2):', max=180)"
      ]
     },
     "metadata": {},
     "output_type": "display_data"
    },
    {
     "data": {
      "application/vnd.jupyter.widget-view+json": {
       "model_id": "bdb01ecd27634315bfe857a82c007078",
       "version_major": 2,
       "version_minor": 0
      },
      "text/plain": [
       "IntSlider(value=90, continuous_update=False, description='Servo C (Tool):', max=180)"
      ]
     },
     "metadata": {},
     "output_type": "display_data"
    }
   ],
   "source": [
    "gui = RobotArmGUI(robot)\n",
    "gui.display()"
   ]
  },
  {
   "cell_type": "code",
   "execution_count": 24,
   "metadata": {},
   "outputs": [],
   "source": [
    "robot.disconnect()"
   ]
  }
 ],
 "metadata": {
  "kernelspec": {
   "display_name": "Python 3",
   "language": "python",
   "name": "python3"
  },
  "language_info": {
   "codemirror_mode": {
    "name": "ipython",
    "version": 3
   },
   "file_extension": ".py",
   "mimetype": "text/x-python",
   "name": "python",
   "nbconvert_exporter": "python",
   "pygments_lexer": "ipython3",
   "version": "3.7.1"
  }
 },
 "nbformat": 4,
 "nbformat_minor": 2
}
